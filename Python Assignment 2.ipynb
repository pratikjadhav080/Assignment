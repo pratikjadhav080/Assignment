{
 "cells": [
  {
   "cell_type": "markdown",
   "metadata": {},
   "source": [
    "# 1.What are the two values of the Boolean data type? How do you write them?\n",
    "\n",
    "Two boolean data types are - True and False \n",
    "True is considered as 1 , False is considered as 0 "
   ]
  },
  {
   "cell_type": "markdown",
   "metadata": {},
   "source": [
    "# 2. What are the three different types of Boolean operators?\n",
    "- AND, OR , NOT"
   ]
  },
  {
   "cell_type": "markdown",
   "metadata": {},
   "source": [
    "# 3. Make a list of each Boolean operator's truth tables \n",
    "(i.e. every possible combination of Boolean values for the operator and what it evaluate ).\n",
    "\n",
    "\n",
    "1 means True and 0 means False\n",
    "\n",
    "AND :\n",
    "    \n",
    "1 ,1 = 1\n",
    "1, 0 = 0 \n",
    "0, 1 = 0 \n",
    "0, 0 = 0 \n",
    "\n",
    "OR :\n",
    "    \n",
    "1 ,1 = 1\n",
    "1, 0 = 1 \n",
    "0, 1 = 1\n",
    "0, 0 = 0 \n",
    "\n",
    "NOT :\n",
    "    \n",
    "If True , evaluates False\n",
    "If False, evaluates True\n"
   ]
  },
  {
   "cell_type": "markdown",
   "metadata": {},
   "source": [
    "# 4. What are the values of the following expressions?\n",
    "\n",
    "(5 > 4) and (3 == 5)   Ans - False\n",
    "\n",
    "not (5 > 4)  Ans - False\n",
    "\n",
    "(5 > 4) or (3 == 5)   Ans - True\n",
    "\n",
    "not ((5 > 4) or (3 == 5))  Ans - False\n",
    "\n",
    "(True and True) and (True == False) Ans - False\n",
    "\n",
    "(not False) or (not True)  Ans - True\n"
   ]
  },
  {
   "cell_type": "markdown",
   "metadata": {},
   "source": [
    "# 5. What are the six comparison operators?\n",
    "\n",
    "< - less than\n",
    "\n",
    "> - greater than\n",
    "\n",
    "<= - less than or equal to\n",
    "\n",
    ">= - greater than or equal to\n",
    "\n",
    "== - Equality \n",
    "\n",
    "!==  - strict inequality \n"
   ]
  },
  {
   "cell_type": "markdown",
   "metadata": {},
   "source": [
    "# 6. How do you tell the difference between the equal to and assignment operators?\n",
    "Describe a condition and when you would use one.\n",
    "\n",
    "Equal to is represented as '=='\n",
    "Assignment operator is represented as '='\n",
    "\n",
    "The basic difference between equal to and assignment operator is that equal to is used for comparing two values \n",
    "whereas, using assignment operator we can assign a value to a variable\n",
    "\n",
    "Let's say, we want to check whether variable a and variable b holds equal value, \n",
    "then we can use equal to operator to check the same. "
   ]
  },
  {
   "cell_type": "code",
   "execution_count": 8,
   "metadata": {},
   "outputs": [
    {
     "data": {
      "text/plain": [
       "False"
      ]
     },
     "execution_count": 8,
     "metadata": {},
     "output_type": "execute_result"
    }
   ],
   "source": [
    "a = 10\n",
    "b = 20\n",
    "\n",
    "a == b"
   ]
  },
  {
   "cell_type": "markdown",
   "metadata": {},
   "source": [
    "Here, a has been assigned with a value 10 using assignment operator '=' and b has been assigned with a value 20.\n",
    "And to check whether a is equal to b or not, equality operator has been used '==', which eventually gives value as False\n"
   ]
  },
  {
   "cell_type": "markdown",
   "metadata": {},
   "source": [
    "# 7. Identify the three blocks in this code:\n",
    "    \n",
    "spam = 0\n",
    "\n",
    "if spam == 10: \n",
    "    print('eggs')\n",
    "\n",
    "if spam > 5:\n",
    "    print('bacon')\n",
    "\n",
    "else:\n",
    "    print('ham')\n",
    "\n",
    "print('spam')\n",
    "print('spam')\n",
    "\n",
    "\n",
    "Ans - three blocks can be seen inside the if statement and the print statements-  print('bacon') and print('ham')."
   ]
  },
  {
   "cell_type": "markdown",
   "metadata": {},
   "source": [
    "# 8. Write code that prints Hello if 1 is stored in spam, prints Howdy if 2 is stored in spam, and prints Greetings! if anything else is stored in spam.\n",
    "\n",
    "spam = int(input(\"enter a value\"))\n",
    "\n",
    "if spam == 1:\n",
    "    print(\"Hello\")\n",
    "    \n",
    "elif spam == 2:\n",
    "    print(\"Howdy\")\n",
    "\n",
    "else : print(\"Greetings!\")"
   ]
  },
  {
   "cell_type": "code",
   "execution_count": 1,
   "metadata": {},
   "outputs": [
    {
     "name": "stdout",
     "output_type": "stream",
     "text": [
      "enter a value1\n",
      "Hello\n"
     ]
    }
   ],
   "source": [
    "spam = int(input(\"enter a value\"))\n",
    "\n",
    "if spam == 1:\n",
    "    print(\"Hello\")\n",
    "    \n",
    "elif spam == 2:\n",
    "    print(\"Howdy\")\n",
    "\n",
    "else : print(\"Greetings!\")"
   ]
  },
  {
   "cell_type": "markdown",
   "metadata": {},
   "source": [
    "# 9.If your programme is stuck in an endless loop, what keys you’ll press?\n",
    "\n",
    "- ctrl-C"
   ]
  },
  {
   "cell_type": "markdown",
   "metadata": {},
   "source": [
    "# 10. How can you tell the difference between break and continue?"
   ]
  },
  {
   "cell_type": "markdown",
   "metadata": {},
   "source": [
    "1) Break - \n",
    "break statement directly terminates the loop and the next statement outside the loop will be executed.\n",
    "\n",
    "Find below example"
   ]
  },
  {
   "cell_type": "code",
   "execution_count": 8,
   "metadata": {
    "scrolled": true
   },
   "outputs": [
    {
     "name": "stdout",
     "output_type": "stream",
     "text": [
      "1\n",
      "2\n",
      "done\n"
     ]
    }
   ],
   "source": [
    "L = [1,2,4,5]\n",
    "\n",
    "for i in range(len(L)):\n",
    "    if L[i] == 4 :\n",
    "        break\n",
    "    print(L[i])\n",
    "\n",
    "print(\"done\")"
   ]
  },
  {
   "cell_type": "markdown",
   "metadata": {},
   "source": [
    "- in above program when L[i] is equal to 4, break statement will terminate the loop and the next statement outside the loop \n",
    "will be executed"
   ]
  },
  {
   "cell_type": "markdown",
   "metadata": {},
   "source": [
    "2) Continue - \n",
    "continue statement skips statements inside a loop for that particular iteration. Unlike break, it does not terminate the loop and continue for next iteration\n",
    "\n",
    "Find below example"
   ]
  },
  {
   "cell_type": "code",
   "execution_count": 9,
   "metadata": {
    "scrolled": true
   },
   "outputs": [
    {
     "name": "stdout",
     "output_type": "stream",
     "text": [
      "1\n",
      "2\n",
      "5\n"
     ]
    }
   ],
   "source": [
    "L = [1,2,4,5]\n",
    "\n",
    "for i in range(len(L)):\n",
    "    if L[i] == 4 :\n",
    "        continue\n",
    "    print(L[i])\n",
    "\n"
   ]
  },
  {
   "cell_type": "markdown",
   "metadata": {},
   "source": [
    "- in above program when L[i] is equal to 4, continue statement will skip printing L[i] in the loop and next iteration \n",
    "of for loop will take place"
   ]
  },
  {
   "cell_type": "markdown",
   "metadata": {},
   "source": [
    "# 11. In a for loop, what is the difference between range(10), range(0, 10), and range(0, 10, 1)?\n"
   ]
  },
  {
   "cell_type": "code",
   "execution_count": 10,
   "metadata": {},
   "outputs": [
    {
     "name": "stdout",
     "output_type": "stream",
     "text": [
      "0\n",
      "1\n",
      "2\n",
      "3\n",
      "4\n",
      "5\n",
      "6\n",
      "7\n",
      "8\n",
      "9\n"
     ]
    }
   ],
   "source": [
    "for i in range(10):\n",
    "    print(i)"
   ]
  },
  {
   "cell_type": "code",
   "execution_count": 11,
   "metadata": {},
   "outputs": [
    {
     "name": "stdout",
     "output_type": "stream",
     "text": [
      "0\n",
      "1\n",
      "2\n",
      "3\n",
      "4\n",
      "5\n",
      "6\n",
      "7\n",
      "8\n",
      "9\n"
     ]
    }
   ],
   "source": [
    "for i in range(0, 10):\n",
    "    print(i)"
   ]
  },
  {
   "cell_type": "code",
   "execution_count": 12,
   "metadata": {
    "scrolled": true
   },
   "outputs": [
    {
     "name": "stdout",
     "output_type": "stream",
     "text": [
      "0\n",
      "1\n",
      "2\n",
      "3\n",
      "4\n",
      "5\n",
      "6\n",
      "7\n",
      "8\n",
      "9\n"
     ]
    }
   ],
   "source": [
    "for i in range(0, 10, 1):\n",
    "    print(i)"
   ]
  },
  {
   "cell_type": "markdown",
   "metadata": {},
   "source": [
    "Practially, there is no difference between all the three range expressions in the question, \n",
    "also we can see the output is also same.\n",
    "\n",
    "However, there are few differnces which are given below :\n",
    "    \n",
    "range(10) : takes only one argument and in this case 0 is the default value to start with and 10 is the last value but \n",
    "the range function will not include the last index\n",
    "\n",
    "range(0, 10) : takes 2 arguments and in this case 0 is the value to start with and 10 is the last value but \n",
    "the range function will not include the last index. \n",
    "However, we can also change the start index/value according to our needs if we wish to print numbers from specific point.\n",
    "\n",
    "range(0, 10, 1) : takes 3 arguments and 0 is the start point, 10 is the last point, but not including 10, and we also have\n",
    "step size as 1, range function will shift one point at a time while printing value from 0 to 10.\n",
    "If step size was 2, range function would shift two points at a time and print numbers."
   ]
  },
  {
   "cell_type": "markdown",
   "metadata": {},
   "source": [
    "# 12. Write a short program that prints the numbers 1 to 10 using a for loop. \n",
    "Then write an equivalent program that prints the numbers 1 to 10 using a while loop."
   ]
  },
  {
   "cell_type": "code",
   "execution_count": 17,
   "metadata": {},
   "outputs": [
    {
     "name": "stdout",
     "output_type": "stream",
     "text": [
      "1\n",
      "2\n",
      "3\n",
      "4\n",
      "5\n",
      "6\n",
      "7\n",
      "8\n",
      "9\n",
      "10\n"
     ]
    }
   ],
   "source": [
    "for i in range(1,11):\n",
    "    print(i)"
   ]
  },
  {
   "cell_type": "code",
   "execution_count": 20,
   "metadata": {},
   "outputs": [
    {
     "name": "stdout",
     "output_type": "stream",
     "text": [
      "1\n",
      "2\n",
      "3\n",
      "4\n",
      "5\n",
      "6\n",
      "7\n",
      "8\n",
      "9\n",
      "10\n"
     ]
    }
   ],
   "source": [
    "i = 1 \n",
    "while i < 11 :\n",
    "    print(i)\n",
    "    i+=1"
   ]
  },
  {
   "cell_type": "markdown",
   "metadata": {},
   "source": [
    "# 13. If you had a function named bacon() inside a module named spam, how would you call it after importing spam?\n",
    "\n",
    "import spam\n",
    "\n",
    "spam.bacon()\n",
    "\n"
   ]
  },
  {
   "cell_type": "code",
   "execution_count": null,
   "metadata": {},
   "outputs": [],
   "source": []
  },
  {
   "cell_type": "code",
   "execution_count": null,
   "metadata": {},
   "outputs": [],
   "source": []
  },
  {
   "cell_type": "code",
   "execution_count": null,
   "metadata": {},
   "outputs": [],
   "source": []
  },
  {
   "cell_type": "code",
   "execution_count": null,
   "metadata": {},
   "outputs": [],
   "source": []
  }
 ],
 "metadata": {
  "kernelspec": {
   "display_name": "Python 3",
   "language": "python",
   "name": "python3"
  },
  "language_info": {
   "codemirror_mode": {
    "name": "ipython",
    "version": 3
   },
   "file_extension": ".py",
   "mimetype": "text/x-python",
   "name": "python",
   "nbconvert_exporter": "python",
   "pygments_lexer": "ipython3",
   "version": "3.8.5"
  }
 },
 "nbformat": 4,
 "nbformat_minor": 4
}
