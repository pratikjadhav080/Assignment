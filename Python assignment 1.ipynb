{
 "cells": [
  {
   "cell_type": "markdown",
   "metadata": {},
   "source": [
    "# Python Assignment 1"
   ]
  },
  {
   "cell_type": "markdown",
   "metadata": {},
   "source": [
    "# 1. In the below elements which of them are values or an expression? eg:- values can be integer or string and expressions will be mathematical operators."
   ]
  },
  {
   "cell_type": "markdown",
   "metadata": {},
   "source": [
    "* : Expression, 'hello': Value, -87.8 : Value , - : Expression, / : Expression, +: Expression, 6 : Value"
   ]
  },
  {
   "cell_type": "markdown",
   "metadata": {},
   "source": [
    "# 2. What is the difference between string and variable?"
   ]
  },
  {
   "cell_type": "markdown",
   "metadata": {},
   "source": [
    "String – String is one of the data-types in Python.  They are sequences of characters, represented as ‘str’ and enclosed either \n",
    "in single quotes or double quotes.\n",
    "\n",
    "Ex. ‘iNeuron’ or “iNeuron”\n",
    "\n",
    "Variable – Variable is nothing but a name assigned to a memory location. Whenever we assign any value to a variable, \n",
    "a memory location is created with the variable name and the value assigned to the variable in stored inside that location.\n",
    "\n",
    "Ex. Let us take a variable with name iNeuron and declare it.\n",
    "    iNeuron = 20\n",
    "    \n",
    "So, in this case, variable name is iNeuron and value assigned to it is 20. So, the moment iNeuron variable is declared, a location is created with the name iNeuron and value =20 is assigned to it. \n",
    "\n",
    "So, the basic difference between a String and a Variable is that a string can be assigned as a value to a variable. This value is stored in a memory location which is named after the variable name. So, the value or the string (in this case) can be changed later on by assigning a different value/string to the variable. \n",
    "\n",
    "Ex. Course = “iNeuron”\n",
    "\n",
    "Here, Course is a variable name and iNeuron is a string assigned to it."
   ]
  },
  {
   "cell_type": "markdown",
   "metadata": {},
   "source": [
    "# 3. Describe three different data types."
   ]
  },
  {
   "cell_type": "markdown",
   "metadata": {},
   "source": [
    "There are many data types in python. Few of them are given below:\n",
    "    \n",
    "A.\tText Type: str. \n",
    "\n",
    "Str: String is one of the data-types in Python.  They are sequences of characters, represented as ‘str’ and enclosed either in single quotes or double quotes. \n",
    "\n",
    "Representation in Python: “iNeuron” or ‘iNeuron’ \n",
    "\n",
    "B.\tNumeric Types: int, float, complex.\n",
    "\n",
    "1.\tInt: int is basically a numerical data-type in python. It takes an integer as a value. Integer is a whole number – negative or positive.  Integers = {..., −2, −1, 0, 1, 2, ...} There is No decimal point in integer.\n",
    "\n",
    "Representation in Python: x = 2. Here 2 is an int type value assigned to x variable.\n",
    "\n",
    "2.\tFloat: float is one of the numerical data-types in python. It takes a real number as a value. Real numbers are combination of whole numbers and fractions, which means it also includes decimal point.\n",
    "Example of float: 1.2, 3.0, -99.3 etc.\n",
    "\n",
    "3.\tComplex: complex is another numerical data-type in python. It is represented as (x + yj) where x and y are floats and “j” is square root of -1 which is an imaginary number. Here, x is a real part of the number and y is an imaginary of the complex number.\n",
    "Example of complex number: 2+3j \n",
    "\n",
    "C.\tSequence Types: list, tuple, range.\n",
    "\n",
    "1.\tList: List contains different data types like int, float, string, complex numbers within two square brackets. We can also have a list within a list, which is known as a nested list. We can also have list of tuples and many more combinations.List is mutable. However, tuple elements inside the list are immutable.\n",
    "\n",
    "Ex: L = [1, 2.0, 3+4j,'ineuron', [1,2,3,4], ['wew','edad','dff'], (1, 2), (3, 4), (5, 6)]\n",
    "\n",
    "2.\tTuple: Like a List, Tuple is also used to store multiple elements inside it. However, elements inside a tuple are represented inside within round brackets. Unlike list, elements inside a tuple are immutable.\n",
    "\n",
    "Ex. T = (1, 2, (3+4j), 'Pratik', 'ineuron', [1, 2, 3, 4])\n",
    "\n",
    "\n",
    "3.\tRange: range is a function which helps in returning data in sequence starting from 0th index to end index with an increment of 1, excluding end index.  syntax of range is range(start, stop, step)\n",
    "\n",
    "Here, start means starting index, stop means end index, step indicates increment\n",
    "\n",
    "Ex. range (0,10,1) \n",
    "\n",
    "It can also be represented as range (0, 10) where default step size is one.\n",
    "\n",
    "D.\tBoolean Type: Bool: There are two types of Boolean type in python  1.True, 2. False. It indicates whether the operation \n",
    "is true or false.  \n",
    "\n",
    "Examples: lets check whether a is equal to b or not.\n",
    "    \n",
    "a = 10, b = 20\n",
    "print (a == b)\n",
    "output: False\n",
    "    \n",
    "since a is not equal to b, we get output as False. If a and b has equal values, it wud have returned True Boolean."
   ]
  },
  {
   "cell_type": "markdown",
   "metadata": {},
   "source": [
    "# 4.What is an expression made up of? What do all expressions do?"
   ]
  },
  {
   "cell_type": "markdown",
   "metadata": {},
   "source": [
    "An expression contains values, variables, operators. It always returns a value.  Functions are also expressions.\n",
    "An expression may consist of one or more operands, and zero or more operators to produce a value. The returned value can be a string or an integer depending on the operands used. \n",
    "\n",
    "Examples of expressions: \"iNeuron\"+\"Intelligence\", 6+7 etc"
   ]
  },
  {
   "cell_type": "markdown",
   "metadata": {},
   "source": [
    "# 5. This assignment statements, like spam = 10. What is the difference between an expression and a statement?"
   ]
  },
  {
   "cell_type": "markdown",
   "metadata": {},
   "source": [
    "Statement never returns a value. Spam = 10 is just assigning a value 10 to variable Spam however it is not producing any result. \n",
    "Example of statements: Assignment statement, conditional statements like if-else, loops, import etc.\n",
    "Whereas, an expression as mentioned above always produces/returns a result. "
   ]
  },
  {
   "cell_type": "markdown",
   "metadata": {},
   "source": [
    "# 6. After running the following code, what does the variable bacon contain?\n",
    "bacon = 22\n",
    "\n",
    "bacon + 1"
   ]
  },
  {
   "cell_type": "code",
   "execution_count": 5,
   "metadata": {},
   "outputs": [
    {
     "data": {
      "text/plain": [
       "22"
      ]
     },
     "execution_count": 5,
     "metadata": {},
     "output_type": "execute_result"
    }
   ],
   "source": [
    "bacon = 22\n",
    "bacon + 1\n",
    "bacon"
   ]
  },
  {
   "cell_type": "markdown",
   "metadata": {},
   "source": [
    "Variable bacon will still contain the value 22 since we have not assigned the value of the operation (bacon + 1) to the \n",
    "variable bacon.\n",
    "Hence, bacon will remain 22, bacon = 22."
   ]
  },
  {
   "cell_type": "markdown",
   "metadata": {},
   "source": [
    "# 7. What should the values of the following two terms be? \n",
    "'spam' + 'spamspam' \n",
    "'spam' * 3   "
   ]
  },
  {
   "cell_type": "code",
   "execution_count": 3,
   "metadata": {},
   "outputs": [
    {
     "data": {
      "text/plain": [
       "'spamspamspam'"
      ]
     },
     "execution_count": 3,
     "metadata": {},
     "output_type": "execute_result"
    }
   ],
   "source": [
    "'spam' + 'spamspam' "
   ]
  },
  {
   "cell_type": "code",
   "execution_count": 4,
   "metadata": {},
   "outputs": [
    {
     "data": {
      "text/plain": [
       "'spamspamspam'"
      ]
     },
     "execution_count": 4,
     "metadata": {},
     "output_type": "execute_result"
    }
   ],
   "source": [
    "'spam' * 3   "
   ]
  },
  {
   "cell_type": "markdown",
   "metadata": {},
   "source": [
    "# 8. Why is eggs a valid variable name while 100 is invalid?"
   ]
  },
  {
   "cell_type": "markdown",
   "metadata": {},
   "source": [
    "Variable name cannot begin with a number, it can be an alpha-numeric character.\n",
    "It can also begin with an underscore character. Ex. _5 is a valid variable since it is starting with an underscore. \n",
    "However, it cannot start with a number since it will give an error since compiler will not allow it."
   ]
  },
  {
   "cell_type": "markdown",
   "metadata": {},
   "source": [
    "# 9. What three functions can be used to get the integer, floating-point number, or string version of a value? "
   ]
  },
  {
   "cell_type": "markdown",
   "metadata": {},
   "source": [
    "str(), int(), float()"
   ]
  },
  {
   "cell_type": "markdown",
   "metadata": {},
   "source": [
    "# 10. Why does this expression cause an error? How can you fix it?"
   ]
  },
  {
   "cell_type": "markdown",
   "metadata": {},
   "source": [
    "'I have eaten ' + 99 + ' burritos.'\n",
    "\n",
    "Above expression is adding a string type with an integer type of data. “+” operator will only allow addition of similar type of data type. \n",
    "\n",
    "In above case, python will show an error as ‘can only concatenate str (not \"int\") to str’, which means string can only be concatenate with string type. \n",
    "\n",
    "So, to avoid this error, we need to make sure that datatypes of all the entities are same, in this case every entity should be a string. \n",
    "\n",
    "To convert integer type to a string type data, use str(int).\n",
    "\n",
    "So the expression should be \n",
    "\n",
    "'I have eaten ' + str(99) + ' burritos.' Which will yield an output as 'I have eaten 99 burritos.'"
   ]
  },
  {
   "cell_type": "code",
   "execution_count": 2,
   "metadata": {},
   "outputs": [
    {
     "data": {
      "text/plain": [
       "'I have eaten 99 burritos.'"
      ]
     },
     "execution_count": 2,
     "metadata": {},
     "output_type": "execute_result"
    }
   ],
   "source": [
    "'I have eaten ' + str(99) + ' burritos.'"
   ]
  }
 ],
 "metadata": {
  "kernelspec": {
   "display_name": "Python 3",
   "language": "python",
   "name": "python3"
  },
  "language_info": {
   "codemirror_mode": {
    "name": "ipython",
    "version": 3
   },
   "file_extension": ".py",
   "mimetype": "text/x-python",
   "name": "python",
   "nbconvert_exporter": "python",
   "pygments_lexer": "ipython3",
   "version": "3.8.5"
  }
 },
 "nbformat": 4,
 "nbformat_minor": 4
}
